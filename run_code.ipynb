{
 "cells": [
  {
   "cell_type": "code",
   "execution_count": 1,
   "metadata": {},
   "outputs": [],
   "source": [
    "%reload_ext autoreload\n",
    "%autoreload 2\n",
    "\n",
    "import pandas as pd\n",
    "import functions\n",
    "import plotly.express as px\n",
    "import numpy as np"
   ]
  },
  {
   "cell_type": "markdown",
   "metadata": {},
   "source": [
    "# Download the data"
   ]
  },
  {
   "cell_type": "code",
   "execution_count": 32,
   "metadata": {},
   "outputs": [],
   "source": [
    "year=2021"
   ]
  },
  {
   "cell_type": "code",
   "execution_count": 3,
   "metadata": {},
   "outputs": [],
   "source": [
    "functions.download_demand(year)\n",
    "# download generation data\n",
    "functions.download_generation(year)\n",
    "# download emissions data\n",
    "functions.download_emissions(year)"
   ]
  },
  {
   "cell_type": "markdown",
   "metadata": {},
   "source": [
    "# Load the data\n",
    "Interpolate missing data and resample to the hourly level"
   ]
  },
  {
   "cell_type": "code",
   "execution_count": 30,
   "metadata": {},
   "outputs": [],
   "source": [
    "generation = functions.load_hourly_data(year, \"generation\")\n",
    "emissions = functions.load_hourly_data(year, \"emissions\")"
   ]
  },
  {
   "cell_type": "markdown",
   "metadata": {},
   "source": [
    "# Calculate emission factors for system power\n",
    " - CO2 data is in units of mTCO2/hr\n",
    " - generation data is in units of MW\n",
    " - to calculate an emissions factor (mTCO2/MWh), divide CO2 rate by generation\n"
   ]
  },
  {
   "cell_type": "code",
   "execution_count": 31,
   "metadata": {},
   "outputs": [],
   "source": [
    "# only keep columns of fuels to keep\n",
    "system_emissions = emissions.filter(regex=\"natural_gas|imports|coal\").copy()\n",
    "system_generation = generation.filter(regex=\"natural_gas|imports|coal\").copy()\n",
    "\n",
    "# imports are reported as net imports, so we want to exlcude hours when CAISO was exporting\n",
    "system_generation.loc[system_generation['imports_mw'] < 0,'imports_mw'] = 0\n",
    "\n",
    "# we also want to remove any negative generation and emission values\n",
    "system_generation[system_generation < 0] = np.NaN\n",
    "system_emissions[emissions < 0] = np.NaN\n",
    "\n",
    "# sum all columns\n",
    "system_emissions = system_emissions.sum(axis=1, skipna=False)\n",
    "system_generation = system_generation.sum(axis=1, skipna=False)\n",
    "\n",
    "hourly_ef = system_emissions / system_generation\n",
    "\n",
    "hourly_ef = hourly_ef.rename(\"system_ef_co2_tonnes_per_mwh\")\n",
    "\n",
    "hourly_ef.to_csv(f'data/processed/hourly_ef_{year}.csv', index=False)\n"
   ]
  }
 ],
 "metadata": {
  "kernelspec": {
   "display_name": "Python 3.10.4 ('caiso_data_scraper')",
   "language": "python",
   "name": "python3"
  },
  "language_info": {
   "codemirror_mode": {
    "name": "ipython",
    "version": 3
   },
   "file_extension": ".py",
   "mimetype": "text/x-python",
   "name": "python",
   "nbconvert_exporter": "python",
   "pygments_lexer": "ipython3",
   "version": "3.10.4"
  },
  "orig_nbformat": 4,
  "vscode": {
   "interpreter": {
    "hash": "f06a6dbef75fecfb4923fcba518cb65a6c4735c7684bf4f76b6c9ed92be465a1"
   }
  }
 },
 "nbformat": 4,
 "nbformat_minor": 2
}
